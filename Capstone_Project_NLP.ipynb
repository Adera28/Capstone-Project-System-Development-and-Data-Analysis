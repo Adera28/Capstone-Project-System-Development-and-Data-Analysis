{
  "nbformat": 4,
  "nbformat_minor": 0,
  "metadata": {
    "colab": {
      "provenance": [],
      "authorship_tag": "ABX9TyNKddAa8AywUiCZmg34K8pR",
      "include_colab_link": true
    },
    "kernelspec": {
      "name": "python3",
      "display_name": "Python 3"
    },
    "language_info": {
      "name": "python"
    }
  },
  "cells": [
    {
      "cell_type": "markdown",
      "metadata": {
        "id": "view-in-github",
        "colab_type": "text"
      },
      "source": [
        "<a href=\"https://colab.research.google.com/github/Adera28/Capstone-Project-System-Development-and-Data-Analysis/blob/main/Capstone_Project_NLP.ipynb\" target=\"_parent\"><img src=\"https://colab.research.google.com/assets/colab-badge.svg\" alt=\"Open In Colab\"/></a>"
      ]
    },
    {
      "cell_type": "markdown",
      "source": [
        "**1. Importing the Libraries**"
      ],
      "metadata": {
        "id": "scvPg7aTsbVa"
      }
    },
    {
      "cell_type": "code",
      "source": [
        "import numpy as np\n",
        "import matplotlib.pyplot as plt\n",
        "import pandas as pd"
      ],
      "metadata": {
        "id": "tgcT3dFFsf84"
      },
      "execution_count": null,
      "outputs": []
    },
    {
      "cell_type": "markdown",
      "source": [
        "**2. Importing the dataset**"
      ],
      "metadata": {
        "id": "L1oLA68-suh5"
      }
    },
    {
      "cell_type": "code",
      "source": [
        "Dataset = pd.read_csv('Feedback', encoding = 'unicode_escape')"
      ],
      "metadata": {
        "id": "pIomvTFlx9JX"
      },
      "execution_count": null,
      "outputs": []
    },
    {
      "cell_type": "markdown",
      "source": [
        "**3. Cleaning the texts**"
      ],
      "metadata": {
        "id": "25kAbeh92MoV"
      }
    },
    {
      "cell_type": "code",
      "source": [
        "from nltk import corpus\n",
        "import re\n",
        "import nltk\n",
        "nltk.download('stopwords')\n",
        "from nltk.corpus import stopwords\n",
        "from nltk.stem.porter import PorterStemmer\n",
        "corpus = []\n",
        "for i in range(0,505):\n",
        "  review = re.sub('[^a-zA-Z]',' ', Dataset['Reviews'][i])\n",
        "  review = review.lower()\n",
        "  review = review.split()\n",
        "  ps = PorterStemmer()\n",
        "  all_stopwords = stopwords.words('english')\n",
        "  all_stopwords.remove('not')\n",
        "  review = [ps.stem(word) for word in review if not word in set(all_stopwords)]\n",
        "  review = ' '.join(review)\n",
        "  corpus.append(review)\n",
        "\n"
      ],
      "metadata": {
        "colab": {
          "base_uri": "https://localhost:8080/"
        },
        "id": "vRgZc_qu3Ujv",
        "outputId": "ccd47f12-6893-4aa4-a634-a17a3719b8dc"
      },
      "execution_count": null,
      "outputs": [
        {
          "output_type": "stream",
          "name": "stderr",
          "text": [
            "[nltk_data] Downloading package stopwords to /root/nltk_data...\n",
            "[nltk_data]   Package stopwords is already up-to-date!\n"
          ]
        }
      ]
    },
    {
      "cell_type": "markdown",
      "source": [
        "**4. Creating the bag of words**"
      ],
      "metadata": {
        "id": "uXT_MYF1BNzu"
      }
    },
    {
      "cell_type": "code",
      "source": [
        "from sklearn.feature_extraction.text import CountVectorizer\n",
        "cv = CountVectorizer(max_features = 1500)\n",
        "x = cv.fit_transform(corpus).toarray()\n",
        "y = Dataset.iloc[:, 1].values"
      ],
      "metadata": {
        "id": "eKjEzzJFFgQQ"
      },
      "execution_count": null,
      "outputs": []
    },
    {
      "cell_type": "markdown",
      "source": [
        "**5. Splitting dataset into training and testing sets**\n",
        "\n",
        "---\n",
        "\n"
      ],
      "metadata": {
        "id": "QOwaKZ_wKyf9"
      }
    },
    {
      "cell_type": "code",
      "source": [
        "from sklearn.model_selection import train_test_split\n",
        "x_train, x_test, y_train, y_test = train_test_split(x, y, test_size = 0.2, random_state =0)"
      ],
      "metadata": {
        "id": "JyRF5v3qLOuB"
      },
      "execution_count": null,
      "outputs": []
    },
    {
      "cell_type": "markdown",
      "source": [
        "**6. Training the Naive Bayes model**"
      ],
      "metadata": {
        "id": "uCW6odp_MLdX"
      }
    },
    {
      "cell_type": "code",
      "source": [
        "from sklearn.naive_bayes import GaussianNB\n",
        "classifier = GaussianNB()\n",
        "classifier.fit(x_train, y_train)"
      ],
      "metadata": {
        "colab": {
          "base_uri": "https://localhost:8080/"
        },
        "id": "9qTXAaRaMXnS",
        "outputId": "9dda2f48-a717-4992-f175-b85f9d7c2ba1"
      },
      "execution_count": null,
      "outputs": [
        {
          "output_type": "execute_result",
          "data": {
            "text/plain": [
              "GaussianNB()"
            ]
          },
          "metadata": {},
          "execution_count": 40
        }
      ]
    },
    {
      "cell_type": "markdown",
      "source": [
        "**7. Predicting test results**"
      ],
      "metadata": {
        "id": "fg-mNnO2Ovub"
      }
    },
    {
      "cell_type": "code",
      "source": [
        "y_pred = classifier.predict(x_test)\n",
        "print(np.concatenate((y_pred.reshape(len(y_pred),1), y_test.reshape(len(y_test),1)),1))\n"
      ],
      "metadata": {
        "colab": {
          "base_uri": "https://localhost:8080/"
        },
        "id": "s4eBt0kGO1JT",
        "outputId": "14996913-5fa1-413e-ca16-45de48948017"
      },
      "execution_count": null,
      "outputs": [
        {
          "output_type": "stream",
          "name": "stdout",
          "text": [
            "[[1 1]\n",
            " [5 1]\n",
            " [5 5]\n",
            " [5 5]\n",
            " [5 5]\n",
            " [5 5]\n",
            " [5 5]\n",
            " [5 5]\n",
            " [5 5]\n",
            " [5 5]\n",
            " [5 5]\n",
            " [5 5]\n",
            " [5 5]\n",
            " [1 1]\n",
            " [5 5]\n",
            " [5 5]\n",
            " [5 5]\n",
            " [5 5]\n",
            " [5 1]\n",
            " [5 5]\n",
            " [1 5]\n",
            " [5 5]\n",
            " [5 5]\n",
            " [5 5]\n",
            " [1 1]\n",
            " [5 1]\n",
            " [1 1]\n",
            " [5 5]\n",
            " [1 1]\n",
            " [1 1]\n",
            " [5 5]\n",
            " [5 5]\n",
            " [1 5]\n",
            " [1 1]\n",
            " [1 5]\n",
            " [5 5]\n",
            " [5 5]\n",
            " [1 5]\n",
            " [5 5]\n",
            " [5 5]\n",
            " [5 5]\n",
            " [1 1]\n",
            " [5 1]\n",
            " [1 1]\n",
            " [5 5]\n",
            " [5 5]\n",
            " [5 5]\n",
            " [5 5]\n",
            " [5 5]\n",
            " [1 1]\n",
            " [5 5]\n",
            " [5 5]\n",
            " [1 1]\n",
            " [5 5]\n",
            " [5 5]\n",
            " [5 5]\n",
            " [5 5]\n",
            " [5 5]\n",
            " [5 5]\n",
            " [5 5]\n",
            " [5 5]\n",
            " [5 5]\n",
            " [5 5]\n",
            " [5 5]\n",
            " [5 5]\n",
            " [5 5]\n",
            " [5 5]\n",
            " [5 1]\n",
            " [5 5]\n",
            " [5 5]\n",
            " [5 5]\n",
            " [5 5]\n",
            " [5 5]\n",
            " [5 5]\n",
            " [5 5]\n",
            " [1 1]\n",
            " [5 1]\n",
            " [5 1]\n",
            " [1 1]\n",
            " [5 5]\n",
            " [5 5]\n",
            " [5 1]\n",
            " [1 1]\n",
            " [5 5]\n",
            " [5 5]\n",
            " [5 5]\n",
            " [5 5]\n",
            " [1 1]\n",
            " [5 5]\n",
            " [5 5]\n",
            " [5 5]\n",
            " [1 1]\n",
            " [1 5]\n",
            " [5 5]\n",
            " [5 5]\n",
            " [5 1]\n",
            " [5 5]\n",
            " [1 5]\n",
            " [1 5]\n",
            " [1 1]\n",
            " [5 1]]\n"
          ]
        }
      ]
    },
    {
      "cell_type": "markdown",
      "source": [
        "**8. Making the confusion matrix**"
      ],
      "metadata": {
        "id": "0BvaaX0iQwtc"
      }
    },
    {
      "cell_type": "code",
      "source": [
        "from sklearn.metrics import confusion_matrix, accuracy_score\n",
        "cm = confusion_matrix(y_test, y_pred)\n",
        "print(cm)\n",
        "accuracy_score(y_test,y_pred)"
      ],
      "metadata": {
        "colab": {
          "base_uri": "https://localhost:8080/"
        },
        "id": "2SQoHQNwQ2jc",
        "outputId": "64ccbdd6-7516-4eb5-c07a-a50216e254e0"
      },
      "execution_count": null,
      "outputs": [
        {
          "output_type": "stream",
          "name": "stdout",
          "text": [
            "[[17 10]\n",
            " [ 7 67]]\n"
          ]
        },
        {
          "output_type": "execute_result",
          "data": {
            "text/plain": [
              "0.8316831683168316"
            ]
          },
          "metadata": {},
          "execution_count": 43
        }
      ]
    }
  ]
}